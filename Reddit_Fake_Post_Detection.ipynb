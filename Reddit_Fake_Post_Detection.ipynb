{
  "cells": [
    {
      "cell_type": "markdown",
      "source": [
        "problem: Using posts on reddit to predict whether that post is fake or not \n",
        "\n",
        "input: text data\n",
        "\n",
        "output: probability that represent the model certainty of whether that post is fake or not\n",
        "\n",
        "the Challenges: how to convert that text data to numerical values so the algorithms can understand it, what method to use between count vectorizer or tf-idf vectorizer  which algorithms will perform better on text data with that much of dimensonality\n",
        "\n",
        "impact: with that model you can predict with a 83% (which is the highest score that I got on the board) that people are telling the truth or not by just analysing the post \n",
        "\n",
        "Ideal solution: I think if we use models with high capacity neural network for example it will perform better a text data is data with complex structure and NN can involve that complexity"
      ],
      "metadata": {
        "id": "xligvQliAcny"
      }
    },
    {
      "cell_type": "markdown",
      "source": [
        "### Supervisedlearning steps\n",
        "1- collect and preprocess data\n",
        "\n",
        "2- determine a label \n",
        "\n",
        "3- split data into train and validation\n",
        "\n",
        "4- extract features from text\n",
        "\n",
        "5- predict values using test data\n"
      ],
      "metadata": {
        "id": "WuoHFy0UYBfb"
      }
    },
    {
      "cell_type": "code",
      "source": [
        "# import libraries\n",
        "from sklearn.model_selection import train_test_split\n",
        "import pandas as pd\n",
        "from sklearn.feature_extraction.text import TfidfVectorizer\n",
        "from sklearn.linear_model import LogisticRegression\n",
        "from sklearn.svm import LinearSVC\n",
        "from sklearn.ensemble import RandomForestClassifier\n",
        "from sklearn.neural_network import MLPClassifier\n",
        "from sklearn.pipeline import Pipeline\n",
        "from sklearn.model_selection import GridSearchCV, RandomizedSearchCV\n",
        "from xgboost import XGBClassifier\n",
        "from nltk.stem.snowball import SnowballStemmer\n",
        "from nltk.tokenize import word_tokenize\n",
        "from nltk.corpus import stopwords"
      ],
      "metadata": {
        "id": "8PWAXjlUVbvY"
      },
      "execution_count": 1,
      "outputs": []
    },
    {
      "cell_type": "code",
      "source": [
        "#reading data\n",
        "df = pd.read_csv('xy_train.csv')"
      ],
      "metadata": {
        "id": "f2FAfAeQxd0-"
      },
      "execution_count": 2,
      "outputs": []
    },
    {
      "cell_type": "markdown",
      "source": [
        "### Data exploration"
      ],
      "metadata": {
        "id": "eOeGxlWNdO7X"
      }
    },
    {
      "cell_type": "code",
      "source": [
        "# show first 5 rows\n",
        "df.head()"
      ],
      "metadata": {
        "id": "3ZmFZ9ngT974",
        "colab": {
          "base_uri": "https://localhost:8080/",
          "height": 206
        },
        "outputId": "da6b3b97-c8fd-4964-c9f4-301da1ea9c54"
      },
      "execution_count": 3,
      "outputs": [
        {
          "output_type": "execute_result",
          "data": {
            "text/plain": [
              "       id                                               text  label\n",
              "0  265723  A group of friends began to volunteer at a hom...      0\n",
              "1  284269  British Prime Minister @Theresa_May on Nerve A...      0\n",
              "2  207715  In 1961, Goodyear released a kit that allows P...      0\n",
              "3  551106  Happy Birthday, Bob Barker! The Price Is Right...      0\n",
              "4    8584  Obama to Nation: 聙\"Innocent Cops and Unarmed Y...      0"
            ],
            "text/html": [
              "\n",
              "  <div id=\"df-c6c7518c-fc95-4b4c-be8e-b8c44811b517\">\n",
              "    <div class=\"colab-df-container\">\n",
              "      <div>\n",
              "<style scoped>\n",
              "    .dataframe tbody tr th:only-of-type {\n",
              "        vertical-align: middle;\n",
              "    }\n",
              "\n",
              "    .dataframe tbody tr th {\n",
              "        vertical-align: top;\n",
              "    }\n",
              "\n",
              "    .dataframe thead th {\n",
              "        text-align: right;\n",
              "    }\n",
              "</style>\n",
              "<table border=\"1\" class=\"dataframe\">\n",
              "  <thead>\n",
              "    <tr style=\"text-align: right;\">\n",
              "      <th></th>\n",
              "      <th>id</th>\n",
              "      <th>text</th>\n",
              "      <th>label</th>\n",
              "    </tr>\n",
              "  </thead>\n",
              "  <tbody>\n",
              "    <tr>\n",
              "      <th>0</th>\n",
              "      <td>265723</td>\n",
              "      <td>A group of friends began to volunteer at a hom...</td>\n",
              "      <td>0</td>\n",
              "    </tr>\n",
              "    <tr>\n",
              "      <th>1</th>\n",
              "      <td>284269</td>\n",
              "      <td>British Prime Minister @Theresa_May on Nerve A...</td>\n",
              "      <td>0</td>\n",
              "    </tr>\n",
              "    <tr>\n",
              "      <th>2</th>\n",
              "      <td>207715</td>\n",
              "      <td>In 1961, Goodyear released a kit that allows P...</td>\n",
              "      <td>0</td>\n",
              "    </tr>\n",
              "    <tr>\n",
              "      <th>3</th>\n",
              "      <td>551106</td>\n",
              "      <td>Happy Birthday, Bob Barker! The Price Is Right...</td>\n",
              "      <td>0</td>\n",
              "    </tr>\n",
              "    <tr>\n",
              "      <th>4</th>\n",
              "      <td>8584</td>\n",
              "      <td>Obama to Nation: 聙\"Innocent Cops and Unarmed Y...</td>\n",
              "      <td>0</td>\n",
              "    </tr>\n",
              "  </tbody>\n",
              "</table>\n",
              "</div>\n",
              "      <button class=\"colab-df-convert\" onclick=\"convertToInteractive('df-c6c7518c-fc95-4b4c-be8e-b8c44811b517')\"\n",
              "              title=\"Convert this dataframe to an interactive table.\"\n",
              "              style=\"display:none;\">\n",
              "        \n",
              "  <svg xmlns=\"http://www.w3.org/2000/svg\" height=\"24px\"viewBox=\"0 0 24 24\"\n",
              "       width=\"24px\">\n",
              "    <path d=\"M0 0h24v24H0V0z\" fill=\"none\"/>\n",
              "    <path d=\"M18.56 5.44l.94 2.06.94-2.06 2.06-.94-2.06-.94-.94-2.06-.94 2.06-2.06.94zm-11 1L8.5 8.5l.94-2.06 2.06-.94-2.06-.94L8.5 2.5l-.94 2.06-2.06.94zm10 10l.94 2.06.94-2.06 2.06-.94-2.06-.94-.94-2.06-.94 2.06-2.06.94z\"/><path d=\"M17.41 7.96l-1.37-1.37c-.4-.4-.92-.59-1.43-.59-.52 0-1.04.2-1.43.59L10.3 9.45l-7.72 7.72c-.78.78-.78 2.05 0 2.83L4 21.41c.39.39.9.59 1.41.59.51 0 1.02-.2 1.41-.59l7.78-7.78 2.81-2.81c.8-.78.8-2.07 0-2.86zM5.41 20L4 18.59l7.72-7.72 1.47 1.35L5.41 20z\"/>\n",
              "  </svg>\n",
              "      </button>\n",
              "      \n",
              "  <style>\n",
              "    .colab-df-container {\n",
              "      display:flex;\n",
              "      flex-wrap:wrap;\n",
              "      gap: 12px;\n",
              "    }\n",
              "\n",
              "    .colab-df-convert {\n",
              "      background-color: #E8F0FE;\n",
              "      border: none;\n",
              "      border-radius: 50%;\n",
              "      cursor: pointer;\n",
              "      display: none;\n",
              "      fill: #1967D2;\n",
              "      height: 32px;\n",
              "      padding: 0 0 0 0;\n",
              "      width: 32px;\n",
              "    }\n",
              "\n",
              "    .colab-df-convert:hover {\n",
              "      background-color: #E2EBFA;\n",
              "      box-shadow: 0px 1px 2px rgba(60, 64, 67, 0.3), 0px 1px 3px 1px rgba(60, 64, 67, 0.15);\n",
              "      fill: #174EA6;\n",
              "    }\n",
              "\n",
              "    [theme=dark] .colab-df-convert {\n",
              "      background-color: #3B4455;\n",
              "      fill: #D2E3FC;\n",
              "    }\n",
              "\n",
              "    [theme=dark] .colab-df-convert:hover {\n",
              "      background-color: #434B5C;\n",
              "      box-shadow: 0px 1px 3px 1px rgba(0, 0, 0, 0.15);\n",
              "      filter: drop-shadow(0px 1px 2px rgba(0, 0, 0, 0.3));\n",
              "      fill: #FFFFFF;\n",
              "    }\n",
              "  </style>\n",
              "\n",
              "      <script>\n",
              "        const buttonEl =\n",
              "          document.querySelector('#df-c6c7518c-fc95-4b4c-be8e-b8c44811b517 button.colab-df-convert');\n",
              "        buttonEl.style.display =\n",
              "          google.colab.kernel.accessAllowed ? 'block' : 'none';\n",
              "\n",
              "        async function convertToInteractive(key) {\n",
              "          const element = document.querySelector('#df-c6c7518c-fc95-4b4c-be8e-b8c44811b517');\n",
              "          const dataTable =\n",
              "            await google.colab.kernel.invokeFunction('convertToInteractive',\n",
              "                                                     [key], {});\n",
              "          if (!dataTable) return;\n",
              "\n",
              "          const docLinkHtml = 'Like what you see? Visit the ' +\n",
              "            '<a target=\"_blank\" href=https://colab.research.google.com/notebooks/data_table.ipynb>data table notebook</a>'\n",
              "            + ' to learn more about interactive tables.';\n",
              "          element.innerHTML = '';\n",
              "          dataTable['output_type'] = 'display_data';\n",
              "          await google.colab.output.renderOutput(dataTable, element);\n",
              "          const docLink = document.createElement('div');\n",
              "          docLink.innerHTML = docLinkHtml;\n",
              "          element.appendChild(docLink);\n",
              "        }\n",
              "      </script>\n",
              "    </div>\n",
              "  </div>\n",
              "  "
            ]
          },
          "metadata": {},
          "execution_count": 3
        }
      ]
    },
    {
      "cell_type": "code",
      "source": [
        "# check if the data has null values or not\n",
        "df.isnull().sum()"
      ],
      "metadata": {
        "id": "c4UQqFYZs5dC",
        "colab": {
          "base_uri": "https://localhost:8080/"
        },
        "outputId": "d4d15a71-2df2-4ac3-cf2c-7cbcb4efbb97"
      },
      "execution_count": 4,
      "outputs": [
        {
          "output_type": "execute_result",
          "data": {
            "text/plain": [
              "id       0\n",
              "text     0\n",
              "label    0\n",
              "dtype: int64"
            ]
          },
          "metadata": {},
          "execution_count": 4
        }
      ]
    },
    {
      "cell_type": "code",
      "source": [
        "# show a brief review a bout the data\n",
        "df.info()"
      ],
      "metadata": {
        "id": "GbzAuoXZs-xe",
        "colab": {
          "base_uri": "https://localhost:8080/"
        },
        "outputId": "d951f3cb-0535-4b5e-94e1-d6fef397af87"
      },
      "execution_count": 5,
      "outputs": [
        {
          "output_type": "stream",
          "name": "stdout",
          "text": [
            "<class 'pandas.core.frame.DataFrame'>\n",
            "RangeIndex: 60000 entries, 0 to 59999\n",
            "Data columns (total 3 columns):\n",
            " #   Column  Non-Null Count  Dtype \n",
            "---  ------  --------------  ----- \n",
            " 0   id      60000 non-null  int64 \n",
            " 1   text    60000 non-null  object\n",
            " 2   label   60000 non-null  int64 \n",
            "dtypes: int64(2), object(1)\n",
            "memory usage: 1.4+ MB\n"
          ]
        }
      ]
    },
    {
      "cell_type": "code",
      "source": [
        "# frequency of each class\n",
        "df['label'].value_counts()"
      ],
      "metadata": {
        "colab": {
          "base_uri": "https://localhost:8080/"
        },
        "id": "uTffA3qjOBi3",
        "outputId": "95ae3dc2-a0a2-4775-9122-2c32f3711a7d"
      },
      "execution_count": 6,
      "outputs": [
        {
          "output_type": "execute_result",
          "data": {
            "text/plain": [
              "0    32172\n",
              "1    27596\n",
              "2      232\n",
              "Name: label, dtype: int64"
            ]
          },
          "metadata": {},
          "execution_count": 6
        }
      ]
    },
    {
      "cell_type": "markdown",
      "source": [
        "## Preprocessing"
      ],
      "metadata": {
        "id": "6ARsCFjKx_Wl"
      }
    },
    {
      "cell_type": "markdown",
      "source": [
        "###bag-of-words"
      ],
      "metadata": {
        "id": "-cJZVl-hDwWt"
      }
    },
    {
      "cell_type": "markdown",
      "source": [
        "![bag of words.PNG](data:image/png;base64,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)"
      ],
      "metadata": {
        "id": "CKQW_yodW176"
      }
    },
    {
      "cell_type": "markdown",
      "source": [
        "####Text Preprocessing"
      ],
      "metadata": {
        "id": "x4o9mTeZKpkh"
      }
    },
    {
      "cell_type": "code",
      "source": [
        "import nltk\n",
        "nltk.download('stopwords')\n",
        "stemmer = SnowballStemmer(\"english\")\n",
        "stop_words = set(stopwords.words(\"english\"))\n",
        "\n",
        "\n",
        "def clean_text(text, for_embedding=False):\n",
        "    \"\"\" steps:\n",
        "        - remove any html tags (< /br> often found)\n",
        "        - Keep only ASCII + European Chars and whitespace, no digits\n",
        "        - remove single letter chars\n",
        "        - convert all whitespaces (tabs etc.) to single wspace\n",
        "        if not for embedding (but e.g. tdf-idf):\n",
        "        - all lowercase\n",
        "        - remove stopwords, punctuation and stemm\n",
        "    \"\"\"\n",
        "    RE_WSPACE = re.compile(r\"\\s+\", re.IGNORECASE)\n",
        "    RE_TAGS = re.compile(r\"<[^>]+>\")\n",
        "    RE_ASCII = re.compile(r\"[^A-Za-zÀ-ž ]\", re.IGNORECASE)\n",
        "    RE_SINGLECHAR = re.compile(r\"\\b[A-Za-zÀ-ž]\\b\", re.IGNORECASE)\n",
        "    if for_embedding:\n",
        "        # Keep punctuation\n",
        "        RE_ASCII = re.compile(r\"[^A-Za-zÀ-ž,.!? ]\", re.IGNORECASE)\n",
        "        RE_SINGLECHAR = re.compile(r\"\\b[A-Za-zÀ-ž,.!?]\\b\", re.IGNORECASE)\n",
        "\n",
        "    text = re.sub(RE_TAGS, \" \", text)\n",
        "    text = re.sub(RE_ASCII, \" \", text)\n",
        "    text = re.sub(RE_SINGLECHAR, \" \", text)\n",
        "    text = re.sub(RE_WSPACE, \" \", text)\n",
        "\n",
        "    word_tokens = word_tokenize(text)\n",
        "    words_tokens_lower = [word.lower() for word in word_tokens]\n",
        "\n",
        "    if for_embedding:\n",
        "        # no stemming, lowering and punctuation / stop words removal\n",
        "        words_filtered = word_tokens\n",
        "    else:\n",
        "        words_filtered = [\n",
        "            stemmer.stem(word) for word in words_tokens_lower if word not in stop_words\n",
        "        ]\n",
        "\n",
        "    text_clean = \" \".join(words_filtered)\n",
        "    return text_clean"
      ],
      "metadata": {
        "id": "lnuqGZYLVVpK",
        "colab": {
          "base_uri": "https://localhost:8080/"
        },
        "outputId": "cc493d14-58bd-4269-857c-e17e4e780a8b"
      },
      "execution_count": 7,
      "outputs": [
        {
          "output_type": "stream",
          "name": "stdout",
          "text": [
            "[nltk_data] Downloading package stopwords to /root/nltk_data...\n",
            "[nltk_data]   Unzipping corpora/stopwords.zip.\n"
          ]
        }
      ]
    },
    {
      "cell_type": "code",
      "source": [
        "import re\n",
        "nltk.download('punkt')\n",
        "\n",
        "df[\"post_clean\"] = df.loc[df[\"text\"].str.len() > 20, \"text\"]\n",
        "df[\"post_clean\"] = df[\"post_clean\"].map(\n",
        "    lambda x: clean_text(x, for_embedding=False) if isinstance(x, str) else x\n",
        ")"
      ],
      "metadata": {
        "id": "Tt_viqWeV3n4",
        "colab": {
          "base_uri": "https://localhost:8080/"
        },
        "outputId": "e96556e5-f923-4924-c56e-f45cd1eb1c0a"
      },
      "execution_count": 8,
      "outputs": [
        {
          "output_type": "stream",
          "name": "stdout",
          "text": [
            "[nltk_data] Downloading package punkt to /root/nltk_data...\n",
            "[nltk_data]   Unzipping tokenizers/punkt.zip.\n"
          ]
        }
      ]
    },
    {
      "cell_type": "code",
      "source": [
        "df.head()"
      ],
      "metadata": {
        "colab": {
          "base_uri": "https://localhost:8080/",
          "height": 206
        },
        "id": "V88xLokJcpgW",
        "outputId": "78311468-01a6-4d19-8665-8596417fff6e"
      },
      "execution_count": 9,
      "outputs": [
        {
          "output_type": "execute_result",
          "data": {
            "text/plain": [
              "       id                                               text  label  \\\n",
              "0  265723  A group of friends began to volunteer at a hom...      0   \n",
              "1  284269  British Prime Minister @Theresa_May on Nerve A...      0   \n",
              "2  207715  In 1961, Goodyear released a kit that allows P...      0   \n",
              "3  551106  Happy Birthday, Bob Barker! The Price Is Right...      0   \n",
              "4    8584  Obama to Nation: 聙\"Innocent Cops and Unarmed Y...      0   \n",
              "\n",
              "                                          post_clean  \n",
              "0  group friend began volunt homeless shelter nei...  \n",
              "1  british prime minist theresa may nerv attack f...  \n",
              "2  goodyear releas kit allow ps brought heel http...  \n",
              "3  happi birthday bob barker price right host lik...  \n",
              "4  obama nation innoc cop unarm young black men d...  "
            ],
            "text/html": [
              "\n",
              "  <div id=\"df-da659193-d60f-403e-9089-c3bfc51decc4\">\n",
              "    <div class=\"colab-df-container\">\n",
              "      <div>\n",
              "<style scoped>\n",
              "    .dataframe tbody tr th:only-of-type {\n",
              "        vertical-align: middle;\n",
              "    }\n",
              "\n",
              "    .dataframe tbody tr th {\n",
              "        vertical-align: top;\n",
              "    }\n",
              "\n",
              "    .dataframe thead th {\n",
              "        text-align: right;\n",
              "    }\n",
              "</style>\n",
              "<table border=\"1\" class=\"dataframe\">\n",
              "  <thead>\n",
              "    <tr style=\"text-align: right;\">\n",
              "      <th></th>\n",
              "      <th>id</th>\n",
              "      <th>text</th>\n",
              "      <th>label</th>\n",
              "      <th>post_clean</th>\n",
              "    </tr>\n",
              "  </thead>\n",
              "  <tbody>\n",
              "    <tr>\n",
              "      <th>0</th>\n",
              "      <td>265723</td>\n",
              "      <td>A group of friends began to volunteer at a hom...</td>\n",
              "      <td>0</td>\n",
              "      <td>group friend began volunt homeless shelter nei...</td>\n",
              "    </tr>\n",
              "    <tr>\n",
              "      <th>1</th>\n",
              "      <td>284269</td>\n",
              "      <td>British Prime Minister @Theresa_May on Nerve A...</td>\n",
              "      <td>0</td>\n",
              "      <td>british prime minist theresa may nerv attack f...</td>\n",
              "    </tr>\n",
              "    <tr>\n",
              "      <th>2</th>\n",
              "      <td>207715</td>\n",
              "      <td>In 1961, Goodyear released a kit that allows P...</td>\n",
              "      <td>0</td>\n",
              "      <td>goodyear releas kit allow ps brought heel http...</td>\n",
              "    </tr>\n",
              "    <tr>\n",
              "      <th>3</th>\n",
              "      <td>551106</td>\n",
              "      <td>Happy Birthday, Bob Barker! The Price Is Right...</td>\n",
              "      <td>0</td>\n",
              "      <td>happi birthday bob barker price right host lik...</td>\n",
              "    </tr>\n",
              "    <tr>\n",
              "      <th>4</th>\n",
              "      <td>8584</td>\n",
              "      <td>Obama to Nation: 聙\"Innocent Cops and Unarmed Y...</td>\n",
              "      <td>0</td>\n",
              "      <td>obama nation innoc cop unarm young black men d...</td>\n",
              "    </tr>\n",
              "  </tbody>\n",
              "</table>\n",
              "</div>\n",
              "      <button class=\"colab-df-convert\" onclick=\"convertToInteractive('df-da659193-d60f-403e-9089-c3bfc51decc4')\"\n",
              "              title=\"Convert this dataframe to an interactive table.\"\n",
              "              style=\"display:none;\">\n",
              "        \n",
              "  <svg xmlns=\"http://www.w3.org/2000/svg\" height=\"24px\"viewBox=\"0 0 24 24\"\n",
              "       width=\"24px\">\n",
              "    <path d=\"M0 0h24v24H0V0z\" fill=\"none\"/>\n",
              "    <path d=\"M18.56 5.44l.94 2.06.94-2.06 2.06-.94-2.06-.94-.94-2.06-.94 2.06-2.06.94zm-11 1L8.5 8.5l.94-2.06 2.06-.94-2.06-.94L8.5 2.5l-.94 2.06-2.06.94zm10 10l.94 2.06.94-2.06 2.06-.94-2.06-.94-.94-2.06-.94 2.06-2.06.94z\"/><path d=\"M17.41 7.96l-1.37-1.37c-.4-.4-.92-.59-1.43-.59-.52 0-1.04.2-1.43.59L10.3 9.45l-7.72 7.72c-.78.78-.78 2.05 0 2.83L4 21.41c.39.39.9.59 1.41.59.51 0 1.02-.2 1.41-.59l7.78-7.78 2.81-2.81c.8-.78.8-2.07 0-2.86zM5.41 20L4 18.59l7.72-7.72 1.47 1.35L5.41 20z\"/>\n",
              "  </svg>\n",
              "      </button>\n",
              "      \n",
              "  <style>\n",
              "    .colab-df-container {\n",
              "      display:flex;\n",
              "      flex-wrap:wrap;\n",
              "      gap: 12px;\n",
              "    }\n",
              "\n",
              "    .colab-df-convert {\n",
              "      background-color: #E8F0FE;\n",
              "      border: none;\n",
              "      border-radius: 50%;\n",
              "      cursor: pointer;\n",
              "      display: none;\n",
              "      fill: #1967D2;\n",
              "      height: 32px;\n",
              "      padding: 0 0 0 0;\n",
              "      width: 32px;\n",
              "    }\n",
              "\n",
              "    .colab-df-convert:hover {\n",
              "      background-color: #E2EBFA;\n",
              "      box-shadow: 0px 1px 2px rgba(60, 64, 67, 0.3), 0px 1px 3px 1px rgba(60, 64, 67, 0.15);\n",
              "      fill: #174EA6;\n",
              "    }\n",
              "\n",
              "    [theme=dark] .colab-df-convert {\n",
              "      background-color: #3B4455;\n",
              "      fill: #D2E3FC;\n",
              "    }\n",
              "\n",
              "    [theme=dark] .colab-df-convert:hover {\n",
              "      background-color: #434B5C;\n",
              "      box-shadow: 0px 1px 3px 1px rgba(0, 0, 0, 0.15);\n",
              "      filter: drop-shadow(0px 1px 2px rgba(0, 0, 0, 0.3));\n",
              "      fill: #FFFFFF;\n",
              "    }\n",
              "  </style>\n",
              "\n",
              "      <script>\n",
              "        const buttonEl =\n",
              "          document.querySelector('#df-da659193-d60f-403e-9089-c3bfc51decc4 button.colab-df-convert');\n",
              "        buttonEl.style.display =\n",
              "          google.colab.kernel.accessAllowed ? 'block' : 'none';\n",
              "\n",
              "        async function convertToInteractive(key) {\n",
              "          const element = document.querySelector('#df-da659193-d60f-403e-9089-c3bfc51decc4');\n",
              "          const dataTable =\n",
              "            await google.colab.kernel.invokeFunction('convertToInteractive',\n",
              "                                                     [key], {});\n",
              "          if (!dataTable) return;\n",
              "\n",
              "          const docLinkHtml = 'Like what you see? Visit the ' +\n",
              "            '<a target=\"_blank\" href=https://colab.research.google.com/notebooks/data_table.ipynb>data table notebook</a>'\n",
              "            + ' to learn more about interactive tables.';\n",
              "          element.innerHTML = '';\n",
              "          dataTable['output_type'] = 'display_data';\n",
              "          await google.colab.output.renderOutput(dataTable, element);\n",
              "          const docLink = document.createElement('div');\n",
              "          docLink.innerHTML = docLinkHtml;\n",
              "          element.appendChild(docLink);\n",
              "        }\n",
              "      </script>\n",
              "    </div>\n",
              "  </div>\n",
              "  "
            ]
          },
          "metadata": {},
          "execution_count": 9
        }
      ]
    },
    {
      "cell_type": "code",
      "source": [
        "import nltk\n",
        "nltk.download('punkt')\n",
        "nltk.download('maxent_ne_chunker')\n",
        "nltk.download('averaged_perceptron_tagger')\n",
        "\n",
        "import nltk \n",
        "\n",
        "# Tokenize each sentence into words: token_sentences\n",
        "token_sentences = [nltk.word_tokenize(sent.lower()) for sent in  df['text']]\n",
        "\n",
        "# Tag each tokenized sentence into parts of speech: pos_sentences\n",
        "pos_sentences = [nltk.pos_tag(sent) for sent in token_sentences] \n",
        "\n",
        "# Create the named entity chunks: chunked_sentences\n",
        "chunked_sentences = nltk.ne_chunk_sents(pos_sentences, binary=True)\n",
        "chunked_sentences"
      ],
      "metadata": {
        "id": "qxWCJm-G592r",
        "colab": {
          "base_uri": "https://localhost:8080/"
        },
        "outputId": "8ec3aee7-a9e0-49c8-a82f-bf4dfb3a6397"
      },
      "execution_count": 10,
      "outputs": [
        {
          "output_type": "stream",
          "name": "stdout",
          "text": [
            "[nltk_data] Downloading package punkt to /root/nltk_data...\n",
            "[nltk_data]   Package punkt is already up-to-date!\n",
            "[nltk_data] Downloading package maxent_ne_chunker to\n",
            "[nltk_data]     /root/nltk_data...\n",
            "[nltk_data]   Unzipping chunkers/maxent_ne_chunker.zip.\n",
            "[nltk_data] Downloading package averaged_perceptron_tagger to\n",
            "[nltk_data]     /root/nltk_data...\n",
            "[nltk_data]   Unzipping taggers/averaged_perceptron_tagger.zip.\n"
          ]
        },
        {
          "output_type": "execute_result",
          "data": {
            "text/plain": [
              "<generator object ParserI.parse_sents.<locals>.<genexpr> at 0x7f4a4424b850>"
            ]
          },
          "metadata": {},
          "execution_count": 10
        }
      ]
    },
    {
      "cell_type": "code",
      "source": [
        "nltk.download('words')\n",
        "# Create the defaultdict: ner_categories\n",
        "from collections import defaultdict\n",
        "ner_categories = defaultdict(int)\n",
        "\n",
        "# Create the nested for loop\n",
        "for sent in chunked_sentences:\n",
        "    for chunk in sent:\n",
        "        if hasattr(chunk, 'label'):\n",
        "            ner_categories[chunk.label()] += 1\n",
        "            \n",
        "# Create a list from the dictionary keys for the chart labels: labels\n",
        "labels = list(ner_categories.keys())\n",
        "\n",
        "# Create a list of the values: values\n",
        "values = [ner_categories.get(v) for v in labels]\n",
        "\n",
        "# Create the pie chart\n",
        "import matplotlib.pyplot as plt\n",
        "plt.pie(values, labels=labels, autopct='%1.1f%%', startangle=140)\n",
        "\n",
        "# Display the chart\n",
        "plt.show()\n"
      ],
      "metadata": {
        "id": "O9Nga2mlcFkc",
        "colab": {
          "base_uri": "https://localhost:8080/",
          "height": 282
        },
        "outputId": "25272931-275f-4990-f6ce-83a4f2e1861b"
      },
      "execution_count": 12,
      "outputs": [
        {
          "output_type": "stream",
          "name": "stdout",
          "text": [
            "[nltk_data] Downloading package words to /root/nltk_data...\n",
            "[nltk_data]   Unzipping corpora/words.zip.\n"
          ]
        },
        {
          "output_type": "display_data",
          "data": {
            "text/plain": [
              "<Figure size 432x288 with 1 Axes>"
            ],
            "image/png": "[encoded data removed]"
          },
          "metadata": {}
        }
      ]
    },
    {
      "cell_type": "code",
      "source": [
        "from gensim.corpora.dictionary import Dictionary\n",
        "from nltk.tokenize import word_tokenize\n",
        "\n",
        "tokenized_docs = [word_tokenize(doc.lower()) for doc in df['text']]\n",
        "dictionary = Dictionary(tokenized_docs)   \n",
        "\n",
        "from gensim.corpora.dictionary import Dictionary\n",
        "\n",
        "# Create a Dictionary from the articles: dictionary\n",
        "#dictionary = Dictionary()\n",
        "\n",
        "# Create a MmCorpus: corpus\n",
        "corpus = [dictionary.doc2bow(post) for post in tokenized_docs]\n",
        "\n",
        "# Print the first 10 word ids with their frequency counts from the fifth document\n",
        "print(corpus[4][:10])"
      ],
      "metadata": {
        "id": "Z01lr-ls34Yl",
        "colab": {
          "base_uri": "https://localhost:8080/"
        },
        "outputId": "b0257339-3174-4598-d941-decba72e433c"
      },
      "execution_count": 14,
      "outputs": [
        {
          "output_type": "stream",
          "name": "stdout",
          "text": [
            "[(0, 4), (1, 1), (2, 112), (3, 1), (4, 5), (6, 3), (7, 6), (8, 6), (10, 17), (11, 5)]\n"
          ]
        }
      ]
    },
    {
      "cell_type": "code",
      "source": [
        "from numpy.ma.core import count\n",
        "from sklearn.model_selection import train_test_split\n",
        "\n",
        "y = df.label\n",
        "df.drop(['label', 'id',], axis = 1, inplace = True)\n",
        "# splitting data into training and testing\n",
        "X_train, X_test, y_train, y_test = train_test_split(df['text'], y, test_size= .2, random_state=42)"
      ],
      "metadata": {
        "id": "wf4HqvkXWaXD"
      },
      "execution_count": 15,
      "outputs": []
    },
    {
      "cell_type": "markdown",
      "source": [
        "#### Trial 1"
      ],
      "metadata": {
        "id": "PRXut-7DLXIk"
      }
    },
    {
      "cell_type": "markdown",
      "source": [
        "![word counts.PNG](data:image/png;base64,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)"
      ],
      "metadata": {
        "id": "piuNfFLsdqkU"
      }
    },
    {
      "cell_type": "markdown",
      "source": [
        "[Datacamp fake-news-classifier](https://campus.datacamp.com/courses/introduction-to-natural-language-processing-in-python/building-a-fake-news-classifier?ex=1)"
      ],
      "metadata": {
        "id": "7d3oG7cuKXbT"
      }
    },
    {
      "cell_type": "code",
      "source": [
        "from sklearn.feature_extraction.text import CountVectorizer\n",
        "count_vectorizer = CountVectorizer(stop_words = 'english')\n",
        "count_train = count_vectorizer.fit_transform(X_train)\n",
        "count_test = count_vectorizer.transform(X_test)"
      ],
      "metadata": {
        "id": "qRZK5ThhLWI2"
      },
      "execution_count": 16,
      "outputs": []
    },
    {
      "cell_type": "markdown",
      "source": [
        ""
      ],
      "metadata": {
        "id": "1PUAlqI8KHkd"
      }
    },
    {
      "cell_type": "code",
      "source": [
        "# Import the necessary modules\n",
        "from sklearn.naive_bayes import MultinomialNB\n",
        "from sklearn import metrics\n",
        "\n",
        "# Instantiate a Multinomial Naive Bayes classifier: nb_classifier\n",
        "nb_classifier = MultinomialNB()\n",
        "\n",
        "# Fit the classifier to the training data\n",
        "nb_classifier.fit(count_train, y_train)\n",
        "\n",
        "# Create the predicted tags: pred\n",
        "pred = nb_classifier.predict(count_test)\n",
        "\n",
        "# Calculate the accuracy score: score\n",
        "score = metrics.accuracy_score(y_test, pred)\n",
        "print(score)\n",
        "\n",
        "# Calculate the confusion matrix: cm\n",
        "cm = metrics.confusion_matrix(y_test, pred)\n",
        "print(cm)"
      ],
      "metadata": {
        "id": "iPOx-wycWa32",
        "colab": {
          "base_uri": "https://localhost:8080/"
        },
        "outputId": "79c38135-d00d-48b1-b503-7fa412863460"
      },
      "execution_count": 17,
      "outputs": [
        {
          "output_type": "stream",
          "name": "stdout",
          "text": [
            "0.7804166666666666\n",
            "[[4724 1648    2]\n",
            " [ 940 4641    0]\n",
            " [  38    7    0]]\n"
          ]
        }
      ]
    },
    {
      "cell_type": "markdown",
      "source": [
        "Training the model with the original column without cleaning with regular expressions"
      ],
      "metadata": {
        "id": "Jn5K1JpFk7I7"
      }
    },
    {
      "cell_type": "code",
      "source": [
        "X_train_clean, X_test_clean, y_train_clean, y_test_clean = train_test_split(df['post_clean'], y, test_size= .2, random_state=42)\n",
        "\n",
        "count_train_clean = count_vectorizer.fit_transform(X_train_clean)\n",
        "count_test_clean = count_vectorizer.transform(X_test_clean)\n",
        "\n",
        "# Fit the classifier to the training data\n",
        "nb_classifier.fit(count_train_clean, y_train_clean)\n",
        "\n",
        "# Create the predicted tags: pred\n",
        "pred_clean = nb_classifier.predict(count_test_clean)\n",
        "\n",
        "# Calculate the accuracy score: score\n",
        "score_clean = metrics.accuracy_score(y_test_clean, pred_clean)\n",
        "print(score_clean)\n",
        "\n",
        "# Calculate the confusion matrix: cm\n",
        "cm_clean = metrics.confusion_matrix(y_test_clean, pred_clean)\n",
        "print(cm_clean)"
      ],
      "metadata": {
        "colab": {
          "base_uri": "https://localhost:8080/"
        },
        "id": "ScUjlSdelHST",
        "outputId": "c50df2ee-6bec-4a67-f3b2-6d466995667b"
      },
      "execution_count": 18,
      "outputs": [
        {
          "output_type": "stream",
          "name": "stdout",
          "text": [
            "0.7605833333333333\n",
            "[[4568 1804    2]\n",
            " [1022 4559    0]\n",
            " [  33   12    0]]\n"
          ]
        }
      ]
    },
    {
      "cell_type": "markdown",
      "source": [
        "#### Trial 2"
      ],
      "metadata": {
        "id": "A4Z4svkXLa6O"
      }
    },
    {
      "cell_type": "markdown",
      "source": [
        "![tf-idf formula.PNG](data:image/png;base64,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)"
      ],
      "metadata": {
        "id": "en7pP_ILes4k"
      }
    },
    {
      "cell_type": "markdown",
      "source": [
        "word-level vectorizer"
      ],
      "metadata": {
        "id": "N172g7QspPBb"
      }
    },
    {
      "cell_type": "code",
      "source": [
        "from sklearn.feature_extraction.text import TfidfVectorizer\n",
        "tf_idf = TfidfVectorizer(stop_words = 'english', analyzer=\"word\")\n",
        "train_idf = tf_idf.fit_transform(X_train)\n",
        "test_idf = tf_idf.transform(X_test)"
      ],
      "metadata": {
        "id": "5tGfAAvbWajB"
      },
      "execution_count": 19,
      "outputs": []
    },
    {
      "cell_type": "code",
      "source": [
        "# Import the necessary modules\n",
        "from sklearn.naive_bayes import MultinomialNB\n",
        "from sklearn import metrics\n",
        "nb_classifier = MultinomialNB()\n",
        "# Fit the classifier to the training data\n",
        "nb_classifier.fit(train_idf, y_train)\n",
        "\n",
        "# Create the predicted tags: pred\n",
        "pred_idf = nb_classifier.predict(test_idf)\n",
        "\n",
        "# Calculate the accuracy score: score\n",
        "score = metrics.accuracy_score(y_test, pred_idf)\n",
        "print(score)\n",
        "\n",
        "# Calculate the confusion matrix: cm\n",
        "cm = metrics.confusion_matrix(y_test, pred_idf)\n",
        "print(cm)"
      ],
      "metadata": {
        "id": "PJXStfXTNy_k",
        "colab": {
          "base_uri": "https://localhost:8080/"
        },
        "outputId": "c555def3-2bb0-4c76-fe10-6be7da2dd255"
      },
      "execution_count": 20,
      "outputs": [
        {
          "output_type": "stream",
          "name": "stdout",
          "text": [
            "0.7805833333333333\n",
            "[[5129 1245    0]\n",
            " [1343 4238    0]\n",
            " [  38    7    0]]\n"
          ]
        }
      ]
    },
    {
      "cell_type": "markdown",
      "source": [
        "after building a \"fake news\" classifier, \n",
        "\n",
        "I willl investigate what it has learned\n",
        "\n",
        " by mapping the important vector weights back to actual words "
      ],
      "metadata": {
        "id": "ZTthQB60FKpe"
      }
    },
    {
      "cell_type": "code",
      "source": [
        "import warnings\n",
        "warnings.filterwarnings('ignore')\n",
        "\n",
        "class_labels = nb_classifier.classes_\n",
        "feature_names = tf_idf.get_feature_names()\n",
        "\n",
        "# Zip the feature names together with the coefficient array and sort by weights: feat_with_weights\n",
        "feat_with_weights = sorted(zip(nb_classifier.coef_[0], feature_names))\n",
        "\n",
        "# Print the first class label and the top 20 feat_with_weights entries\n",
        "print(class_labels[0], feat_with_weights[:20])\n",
        "\n",
        "# Print the second class label and the bottom 20 feat_with_weights entries\n",
        "print(class_labels[1], feat_with_weights[-20:])\n"
      ],
      "metadata": {
        "id": "g-OEOjqqBnBL",
        "colab": {
          "base_uri": "https://localhost:8080/"
        },
        "outputId": "8a237f6a-2842-49c2-88ac-2a49702c0d88"
      },
      "execution_count": 21,
      "outputs": [
        {
          "output_type": "stream",
          "name": "stdout",
          "text": [
            "0 [(-11.861944233251945, '000c'), (-11.861944233251945, '000ft'), (-11.861944233251945, '000km'), (-11.861944233251945, '000m'), (-11.861944233251945, '000n'), (-11.861944233251945, '000拢'), (-11.861944233251945, '000鈥'), (-11.861944233251945, '007'), (-11.861944233251945, '00m'), (-11.861944233251945, '014'), (-11.861944233251945, '016'), (-11.861944233251945, '020th'), (-11.861944233251945, '022'), (-11.861944233251945, '023'), (-11.861944233251945, '0230527'), (-11.861944233251945, '030'), (-11.861944233251945, '03鈥'), (-11.861944233251945, '067594d101f51f7bc1800f0fd15ef65067fb788e'), (-11.861944233251945, '075'), (-11.861944233251945, '086')]\n",
            "1 [(-7.11717150214767, 'know'), (-7.107473098532296, 'day'), (-7.065967438847404, '2017'), (-7.054027580509797, 'world'), (-7.0239241348342265, 'president'), (-7.023246068781176, 'german'), (-7.006062871091169, 'time'), (-6.984914013572865, 'life'), (-6.911428732295224, 'american'), (-6.903713730345547, '2018'), (-6.820286685369702, 'man'), (-6.7852804322375135, 'people'), (-6.6776056435285795, 'new'), (-6.662131815404427, 'like'), (-6.6355372155632635, 'circa'), (-6.577572043388562, 'just'), (-6.571607376463049, 'trump'), (-6.560815557824612, 'war'), (-6.421939492691853, 'poster'), (-6.079037422984762, 'colorized')]\n"
          ]
        }
      ]
    },
    {
      "cell_type": "markdown",
      "source": [
        "#### Trial 3"
      ],
      "metadata": {
        "id": "lvsN_oe5Yr0u"
      }
    },
    {
      "cell_type": "markdown",
      "source": [
        "####TfidfVectorizer for text classification\n",
        "\n",
        "character-level vectorizer "
      ],
      "metadata": {
        "id": "urGmEqghiv-M"
      }
    },
    {
      "cell_type": "code",
      "source": [
        "tf_idf_char = TfidfVectorizer(stop_words = 'english', analyzer=\"char\")\n",
        "train_idf_char = tf_idf.fit_transform(X_train)\n",
        "test_idf_char = tf_idf.transform(X_test)"
      ],
      "metadata": {
        "id": "phrKi7cHMUBz"
      },
      "execution_count": 22,
      "outputs": []
    },
    {
      "cell_type": "code",
      "source": [
        "# Fit the classifier to the training data\n",
        "nb_classifier.fit(train_idf_char, y_train)\n",
        "\n",
        "# Create the predicted tags: pred\n",
        "pred_idf_char = nb_classifier.predict(test_idf_char)\n",
        "\n",
        "# Calculate the accuracy score: score\n",
        "score_char = metrics.accuracy_score(y_test, pred_idf_char)\n",
        "print(score_char)\n",
        "\n",
        "# Calculate the confusion matrix: cm\n",
        "cm_char = metrics.confusion_matrix(y_test, pred_idf_char)\n",
        "print(cm_char)"
      ],
      "metadata": {
        "id": "ZF1YNh_lJogK",
        "colab": {
          "base_uri": "https://localhost:8080/"
        },
        "outputId": "44590e92-c1ac-4a9e-9355-fbefd5043c20"
      },
      "execution_count": 23,
      "outputs": [
        {
          "output_type": "stream",
          "name": "stdout",
          "text": [
            "0.7805833333333333\n",
            "[[5129 1245    0]\n",
            " [1343 4238    0]\n",
            " [  38    7    0]]\n"
          ]
        }
      ]
    },
    {
      "cell_type": "markdown",
      "source": [
        "#### Trial 4"
      ],
      "metadata": {
        "id": "bnKPNF68ZIiY"
      }
    },
    {
      "cell_type": "code",
      "source": [
        "from xgboost.sklearn import XGBClassifier\n",
        "xgboost = XGBClassifier()\n",
        "xgboost.fit(train_idf, y_train)\n",
        "\n",
        "# Create the predicted tags: pred\n",
        "pred_boost = xgboost.predict(test_idf)\n",
        "\n",
        "# Calculate the accuracy score: score\n",
        "score_boost = metrics.accuracy_score(y_test, pred_boost)\n",
        "print(score_boost)\n",
        "\n",
        "# Calculate the confusion matrix: cm\n",
        "cm_boost = metrics.confusion_matrix(y_test, pred_boost)\n",
        "print(cm)"
      ],
      "metadata": {
        "colab": {
          "base_uri": "https://localhost:8080/"
        },
        "id": "U4pz48qluTRK",
        "outputId": "e4fccad7-cb4c-4cd5-880e-3223c82acfb3"
      },
      "execution_count": 24,
      "outputs": [
        {
          "output_type": "stream",
          "name": "stdout",
          "text": [
            "0.6846666666666666\n",
            "[[5129 1245    0]\n",
            " [1343 4238    0]\n",
            " [  38    7    0]]\n"
          ]
        }
      ]
    },
    {
      "cell_type": "markdown",
      "source": [
        "#### Trial 5"
      ],
      "metadata": {
        "id": "5_mKZXNZ3qM5"
      }
    },
    {
      "cell_type": "code",
      "source": [
        "\n",
        "xgboost.fit(count_train, y_train)\n",
        "\n",
        "# Create the predicted tags: pred\n",
        "pred_boost_count = xgboost.predict(count_test)\n",
        "\n",
        "# Calculate the accuracy score: score\n",
        "score_boost_count = metrics.accuracy_score(y_test, pred_boost_count)\n",
        "print(score_boost)\n",
        "\n",
        "# Calculate the confusion matrix: cm\n",
        "cm_boost_count = metrics.confusion_matrix(y_test, pred_boost_count)\n",
        "print(cm)"
      ],
      "metadata": {
        "colab": {
          "base_uri": "https://localhost:8080/"
        },
        "id": "Vua4qw-_3pm2",
        "outputId": "cefd3886-e4e7-4eee-f01b-e6e11eb5fe7e"
      },
      "execution_count": 25,
      "outputs": [
        {
          "output_type": "stream",
          "name": "stdout",
          "text": [
            "0.6846666666666666\n",
            "[[5129 1245    0]\n",
            " [1343 4238    0]\n",
            " [  38    7    0]]\n"
          ]
        }
      ]
    },
    {
      "cell_type": "markdown",
      "source": [
        "#### hyperparamter search method"
      ],
      "metadata": {
        "id": "ZO3-S4PKMu7h"
      }
    },
    {
      "cell_type": "markdown",
      "source": [
        "![parameters.PNG](data:image/png;base64,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)"
      ],
      "metadata": {
        "id": "C8Tcu_2bfLfM"
      }
    },
    {
      "cell_type": "code",
      "source": [
        "\n",
        "from sklearn.model_selection import RandomizedSearchCV\n",
        "from sklearn.pipeline import Pipeline\n",
        "import numpy as np\n",
        "# feature creation and modelling in a single function\n",
        "pipe = Pipeline([(\"tfidf\", TfidfVectorizer()), ('my_classifier', \n",
        "           XGBClassifier())])\n",
        "\n",
        "# define parameter space to test # runtime 19min\n",
        "xgb_param = {'my_classifier__learning_rate': [.001, .01, 0.1],\n",
        "    'my_classifier__n_estimators': [40, 100, 500],  \n",
        "     # my_classifier__n_estimators points to my_classifier->n_estimators \n",
        "    'my_classifier__max_depth':[10, 20, 30]       \n",
        "}\n",
        "\n",
        "Random_search = RandomizedSearchCV(\n",
        "    pipe, xgb_param, cv=2, verbose=1, n_jobs=2, \n",
        "    # number of random trials\n",
        "    n_iter=10,\n",
        "    scoring='roc_auc')\n",
        "\n",
        "Random_search.fit(df['text'], y)\n",
        "\n",
        "print('best score {}'.format(Random_search.best_score_))\n",
        "print('best score {}'.format(Random_search.best_params_))"
      ],
      "metadata": {
        "id": "KkQCWsbVTTId",
        "colab": {
          "base_uri": "https://localhost:8080/"
        },
        "outputId": "416bf948-4b81-406e-d6f0-2606214ee5e7"
      },
      "execution_count": null,
      "outputs": [
        {
          "output_type": "stream",
          "name": "stdout",
          "text": [
            "Fitting 2 folds for each of 10 candidates, totalling 20 fits\n"
          ]
        }
      ]
    },
    {
      "cell_type": "markdown",
      "source": [
        "### Inspecting your model"
      ],
      "metadata": {
        "id": "g5_g2qBVFual"
      }
    },
    {
      "cell_type": "markdown",
      "source": [
        "#### Trial 6"
      ],
      "metadata": {
        "id": "supexQ2eZz98"
      }
    },
    {
      "cell_type": "code",
      "source": [
        "import numpy as np\n",
        "alphas = np.arange(0, 1, .1)\n",
        "\n",
        "# Define train_and_predict()\n",
        "def train_and_predict(alpha):\n",
        "    # Instantiate the classifier: nb_classifier\n",
        "    nb_classifier = MultinomialNB(alpha= alpha)\n",
        "    # Fit to the training data\n",
        "    nb_classifier.fit(train_idf, y_train)\n",
        "    # Predict the labels: pred\n",
        "    pred = nb_classifier.predict(test_idf)\n",
        "    # Compute accuracy: score\n",
        "    score = metrics.accuracy_score(y_test, pred)\n",
        "    return score\n",
        "\n",
        "# Iterate over the alphas and print the corresponding score\n",
        "for alpha in alphas:\n",
        "    print('Alpha: ', alpha)\n",
        "    print('Score: ', train_and_predict(alpha))\n",
        "    print()"
      ],
      "metadata": {
        "id": "q2gk6SP8WqAH",
        "colab": {
          "base_uri": "https://localhost:8080/"
        },
        "outputId": "5f21a345-62b6-490e-8cee-f9649b380f32"
      },
      "execution_count": 36,
      "outputs": [
        {
          "output_type": "stream",
          "name": "stdout",
          "text": [
            "Alpha:  0.0\n",
            "Score:  0.7390833333333333\n",
            "\n",
            "Alpha:  0.1\n",
            "Score:  0.7716666666666666\n",
            "\n",
            "Alpha:  0.2\n",
            "Score:  0.776\n",
            "\n",
            "Alpha:  0.30000000000000004\n",
            "Score:  0.7773333333333333\n",
            "\n",
            "Alpha:  0.4\n",
            "Score:  0.7799166666666667\n",
            "\n",
            "Alpha:  0.5\n",
            "Score:  0.78075\n",
            "\n",
            "Alpha:  0.6000000000000001\n",
            "Score:  0.77975\n",
            "\n",
            "Alpha:  0.7000000000000001\n",
            "Score:  0.7804166666666666\n",
            "\n",
            "Alpha:  0.8\n",
            "Score:  0.7800833333333334\n",
            "\n",
            "Alpha:  0.9\n",
            "Score:  0.7803333333333333\n",
            "\n"
          ]
        }
      ]
    },
    {
      "cell_type": "code",
      "source": [
        "from collections import Counter\n",
        "[Counter(i).most_common(5) for i in df['text']]"
      ],
      "metadata": {
        "id": "tmnVKTznN7yh"
      },
      "execution_count": null,
      "outputs": []
    },
    {
      "cell_type": "code",
      "source": [
        ""
      ],
      "metadata": {
        "id": "x8SkNc3aWSn0"
      },
      "execution_count": null,
      "outputs": []
    },
    {
      "cell_type": "markdown",
      "source": [
        "I have used count vectorizer which simply the frequency of each word in the text but \n",
        "\n",
        "1- Its inability in identifying more important and less important words for analysis.\n",
        "\n",
        "2- It will just consider words that are abundant in a corpus as the most statistically significant word.\n",
        "\n",
        "3- It also doesn't identify the relationships between words such as linguistic similarity between words.\n",
        "\n",
        "\n",
        " and  tf-idf vectorizer or TF-IDF means Term Frequency - Inverse Document Frequency. This is a statistic that is based on the frequency of a word in the corpus but it also provides a numerical representation of how important a word is for statistical analysis.\n",
        " \n",
        " these two algorithms to convert text data to numerical values, \n",
        "\n",
        "[sklearn.naive_bayes.MultinomialNB](https://scikit-learn.org/stable/modules/generated/sklearn.naive_bayes.MultinomialNB.html)\n",
        "Naive Bayes classifier for multinomial models.\n",
        "\n",
        "The multinomial Naive Bayes classifier is suitable for classification with discrete features (word counts for text classification). The multinomial distribution normally requires integer feature counts. However, in practice, fractional counts such as tf-idf may also work.\n",
        "\n",
        "and it was really fast algorithms to train. I have tried  other algorithms but naive bayes performed reasonablly good and it is a simple model to interpret as if you use this model in real business "
      ],
      "metadata": {
        "id": "yhuYRobeFOVH"
      }
    },
    {
      "cell_type": "markdown",
      "source": [
        "###Questions"
      ],
      "metadata": {
        "id": "5uC0kKQ-VSzx"
      }
    },
    {
      "cell_type": "markdown",
      "source": [
        "### Q1"
      ],
      "metadata": {
        "id": "qtYRu9HPD_wL"
      }
    },
    {
      "cell_type": "markdown",
      "source": [
        "[what is tokenization](https://www.linkedin.com/pulse/what-tokenization-natural-language-processing-nlp-rakesh-bhol/)"
      ],
      "metadata": {
        "id": "5YAZvEgeGKAb"
      }
    },
    {
      "cell_type": "markdown",
      "source": [
        "there are more character N-grams repetitions than word n-gram repetitions. \n",
        "\n",
        "Character Tokenizers handles OOV words coherently by preserving the information of the word. It breaks down the OOV word into characters and represents the word in terms of these characters. It also limits the size of the vocabulary. since the 26 vocabulary contains a unique set of characters.\n"
      ],
      "metadata": {
        "id": "yDyHhGz4VWIu"
      }
    },
    {
      "cell_type": "code",
      "source": [
        ""
      ],
      "metadata": {
        "id": "76UIlplfVVFw"
      },
      "execution_count": null,
      "outputs": []
    },
    {
      "cell_type": "markdown",
      "source": [
        "[stop words dependent](https://towardsdatascience.com/text-pre-processing-stop-words-removal-using-different-libraries-f20bac19929a)"
      ],
      "metadata": {
        "id": "Z65z8DYFEy5d"
      }
    },
    {
      "cell_type": "markdown",
      "source": [
        "### Q2\n",
        "Stop word elimination and stemming are commonly used method in indexing. Stop words are high frequency words that have little semantic weight and are thus unlikely to help the retrieval process. Usual practice in IR is to drop them from index. Stemming conflates morphological variants of words in its root or stem.\n",
        "\n",
        "We do not always remove the stop words. The removal of stop words is highly dependent on the task we are performing and the goal we want to achieve"
      ],
      "metadata": {
        "id": "m6mQi9TND8EU"
      }
    },
    {
      "cell_type": "markdown",
      "source": [
        "### Q3\n",
        "\n",
        "There are various tokenization techniques available which can be applicable based on the language and purpose of modeling.\n",
        "Tokenization is essentially splitting a phrase, sentence, paragraph, or an entire text document into smaller units, such as individual words or terms. Each of these smaller units are called tokens."
      ],
      "metadata": {
        "id": "XjRc1hl8ExqR"
      }
    },
    {
      "cell_type": "code",
      "source": [
        ""
      ],
      "metadata": {
        "id": "iMLLyEPtD-SM"
      },
      "execution_count": null,
      "outputs": []
    },
    {
      "cell_type": "markdown",
      "source": [
        "### Q4\n",
        "\n",
        "[count vectorizers vs tfidf](https://www.linkedin.com/pulse/count-vectorizers-vs-tfidf-natural-language-processing-sheel-saket/)\n",
        "\n",
        "Count Vectorizer: is a way to convert a given set of strings into a frequency representation.\n",
        "\n",
        "It will just consider words that are abundant in a corpus as the most statistically significant word.\n",
        "\n",
        "It also doesn't identify the relationships between words such as linguistic similarity between words.\n",
        "\n",
        "TF-IDF:\n",
        "This is a statistic that is based on the frequency of a word in the corpus but it also provides a numerical representation of how important a word is for statistical analysis.\n",
        "\n",
        "Who is better ?\n",
        "\n",
        "TF-IDF is better than Count Vectorizers because it not only focuses on the frequency of words present in the corpus but also provides the importance of the words. We can then remove the words that are less important for analysis, hence making the model building less complex by reducing the input dimensions.\n",
        "\n",
        "\n",
        "\n",
        "\n",
        " Would it be feasible to use all possible n-grams? If not, how should you select them?\n",
        "\n",
        "I think it depends on the size of the data and the project you are working on and the language. "
      ],
      "metadata": {
        "id": "xNf7C2LIoHJd"
      }
    },
    {
      "cell_type": "code",
      "source": [
        ""
      ],
      "metadata": {
        "id": "SZY_GAx2oIb2"
      },
      "execution_count": 34,
      "outputs": []
    }
  ],
  "metadata": {
    "colab": {
      "collapsed_sections": [],
      "name": "Reddit Fake Post Detection.ipynb",
      "provenance": []
    },
    "kernelspec": {
      "display_name": "Python 3",
      "name": "python3"
    },
    "accelerator": "GPU"
  },
  "nbformat": 4,
  "nbformat_minor": 0
}